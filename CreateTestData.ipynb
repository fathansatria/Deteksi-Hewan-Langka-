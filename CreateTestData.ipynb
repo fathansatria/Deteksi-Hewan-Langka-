{
 "cells": [
  {
   "cell_type": "code",
   "execution_count": 92,
   "metadata": {},
   "outputs": [],
   "source": [
    " \n",
    "########################## first part: prepare data ###########################\n",
    "from random import shuffle\n",
    "import glob\n",
    " \n",
    "shuffle_data = True  # shuffle the addresses\n",
    " \n",
    "hdf5_path = 'datasets/data_test.h5'  # file path for the created .hdf5 file\n",
    "cat_dog_train_path = 'datasets/test/*.jpg' # the original data path\n",
    " \n",
    "# get all the image paths\n",
    "addrs = glob.glob(cat_dog_train_path)\n",
    " \n",
    "# label the data as 0=jalakbali, 1=komodo\n",
    "labels = []\n",
    "for addr in addrs:\n",
    "    if 'komodo' in addr:\n",
    "        labels.append(1)\n",
    "    elif'jalakbali' in addr:\n",
    "        labels.append(0)\n",
    "    else : \n",
    "        labels.append(2)\n",
    "         \n",
    "# shuffle data\n",
    "if shuffle_data:\n",
    "    c = list(zip(addrs, labels)) # use zip() to bind the images and labels together\n",
    "    shuffle(c)\n",
    "    (addrs, labels) = zip(*c)  # *c is used to separate all the tuples in the list c,  \n",
    "                               # \"addrs\" then contains all the shuffled paths and\n",
    "                               # \"labels\" contains all the shuffled labels.\n",
    "                               \n",
    "# # Divide the data into 80% for train and 20% for test\n",
    "\n",
    "test_addrs = addrs[0:int(0.8*len(addrs)):]\n",
    "test_labels = labels[0:int(0.8*len(labels)):]\n"
   ]
  },
  {
   "cell_type": "code",
   "execution_count": null,
   "metadata": {},
   "outputs": [],
   "source": []
  },
  {
   "cell_type": "code",
   "execution_count": 93,
   "metadata": {},
   "outputs": [],
   "source": [
    "\n",
    " ##################### second part: create the h5py object #####################\n",
    "import numpy as np\n",
    "import h5py\n",
    " \n",
    "test_shape = (len(test_addrs), 128, 128, 3)\n",
    " \n",
    "# open a hdf5 file and create earrays\n",
    "f = h5py.File(hdf5_path, mode='w')\n",
    " \n",
    "# PIL.Image: the pixels range is 0-255,dtype is uint.\n",
    "# matplotlib: the pixels range is 0-1,dtype is float.\n",
    "f.create_dataset(\"test_set_x\", test_shape, np.uint8)  \n",
    "\n",
    "animal = ['jalakbali', 'komodo','bukan binatang langka'];\n",
    "f.create_dataset(\"animal\", data=animal)\n",
    " \n",
    "# the \".create_dataset\" object is like a dictionary, the \"train_labels\" is the key.\n",
    "f.create_dataset(\"test_set_y\", (len(test_addrs),), np.uint8)\n",
    "f[\"test_set_y\"][...] = test_labels\n",
    " "
   ]
  },
  {
   "cell_type": "code",
   "execution_count": null,
   "metadata": {},
   "outputs": [],
   "source": []
  },
  {
   "cell_type": "code",
   "execution_count": 94,
   "metadata": {},
   "outputs": [],
   "source": [
    "######################## third part: write the images #########################\n",
    "import cv2\n",
    " \n",
    "# loop over train paths\n",
    "for i in range(len(test_addrs)):\n",
    "    \n",
    "    if i % 1000 == 0 and i > 1:\n",
    "        print ('Test data: {}/{}'.format(i, len(test_addrs)) )\n",
    " \n",
    "    addr = test_addrs[i]\n",
    "    img = cv2.imread(addr)\n",
    "    img = cv2.cvtColor(img, cv2.COLOR_BGR2RGB) # cv2 load images as BGR, convert it to RGB\n",
    "    img = cv2.resize(img, (128, 128), interpolation=cv2.INTER_CUBIC)# resize to (128,128)    \n",
    "    f[\"test_set_x\"][i, ...] = img[None]\n",
    " \n",
    "    \n",
    "f.close()"
   ]
  },
  {
   "cell_type": "code",
   "execution_count": null,
   "metadata": {},
   "outputs": [],
   "source": []
  }
 ],
 "metadata": {
  "kernelspec": {
   "display_name": "Python 2",
   "language": "python",
   "name": "python2"
  },
  "language_info": {
   "codemirror_mode": {
    "name": "ipython",
    "version": 2
   },
   "file_extension": ".py",
   "mimetype": "text/x-python",
   "name": "python",
   "nbconvert_exporter": "python",
   "pygments_lexer": "ipython2",
   "version": "2.7.17"
  }
 },
 "nbformat": 4,
 "nbformat_minor": 2
}
