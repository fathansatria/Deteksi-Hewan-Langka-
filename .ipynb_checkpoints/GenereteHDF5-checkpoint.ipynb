{
 "cells": [
  {
   "cell_type": "code",
   "execution_count": 67,
   "metadata": {},
   "outputs": [],
   "source": [
    "#------------------------------------------------------------------------------\n",
    "# The famous data set:cats vs dogs is used in this example. The data set contains\n",
    "# 12500 dog pictures and 12500 cat pictures. All the images are shuffled randomly\n",
    "# and 20000 images are used to train, 5000 images are used to test. The images\n",
    "# can be resized to different sizes but the size of the .hdf5 file differs very\n",
    "# far depending on the size of the images. The file is 1.14G when the size of the\n",
    "# images is (128,128) and 4.57G for (256,256), 18.3G for (512,512).\n",
    "#------------------------------------------------------------------------------\n",
    " \n",
    "########################## first part: prepare data ###########################\n",
    "from random import shuffle\n",
    "import glob\n",
    " \n",
    "shuffle_data = True  # shuffle the addresses\n",
    " \n",
    "hdf5_path = 'test_cats.h5' # file path for the created .hdf5 file\n",
    " \n",
    "cat_dog_train_path = 'train/*.jpg' # the original data path\n",
    " \n",
    "# get all the image paths\n",
    "addrs = glob.glob(cat_dog_train_path)\n",
    " \n",
    "# label the data as 0=cat, 1=dog\n",
    "labels = [0 if 'cat' in addr else 1 for addr in addrs]\n",
    " \n",
    "# shuffle data\n",
    "if shuffle_data:\n",
    "    c = list(zip(addrs, labels)) # use zip() to bind the images and labels together\n",
    "    shuffle(c)\n",
    " \n",
    "    (addrs, labels) = zip(*c)  # *c is used to separate all the tuples in the list c,  \n",
    "                               # \"addrs\" then contains all the shuffled paths and\n",
    "                               # \"labels\" contains all the shuffled labels.\n",
    "                               \n",
    "# Divide the data into 80% for train and 20% for test\n",
    "\n",
    "# train_addrs = addrs[0:int(0.8*len(addrs))]\n",
    "# train_labels = labels[0:int(0.8*len(labels))]\n",
    "\n",
    "# test_addrs = addrs[int(0.8*len(addrs)):]\n",
    "# test_labels = labels[int(0.8*len(labels)):]\n",
    "\n",
    "train_addrs = addrs\n",
    "train_labels = labels\n",
    "\n",
    "test_addrs = addrs\n",
    "test_labels = labels\n",
    " \n"
   ]
  },
  {
   "cell_type": "code",
   "execution_count": 68,
   "metadata": {},
   "outputs": [
    {
     "name": "stdout",
     "output_type": "stream",
     "text": [
      "58\n",
      "58\n"
     ]
    }
   ],
   "source": [
    "\n",
    "print len(train_addrs)\n",
    "print len(test_addrs)"
   ]
  },
  {
   "cell_type": "code",
   "execution_count": 69,
   "metadata": {},
   "outputs": [],
   "source": [
    "\n",
    " \n",
    "##################### second part: create the h5py object #####################\n",
    "import numpy as np\n",
    "import h5py\n",
    " \n",
    "train_shape = (len(train_addrs), 128, 128, 3)\n",
    "# test_shape = (len(test_addrs), 128, 128, 3)\n",
    " \n",
    "# open a hdf5 file and create earrays\n",
    "f = h5py.File(hdf5_path, mode='w')\n",
    " \n",
    "# PIL.Image: the pixels range is 0-255,dtype is uint.\n",
    "# matplotlib: the pixels range is 0-1,dtype is float.\n",
    "f.create_dataset(\"train_set_x\", train_shape, np.uint8)\n",
    "\n",
    "animal = ['dog', 'cat'];\n",
    "f.create_dataset(\"animal\", data=animal)\n",
    "\n",
    "\n",
    "# f.create_dataset(\"test_set_x\", test_shape, np.uint8)  \n",
    " \n",
    "# the \".create_dataset\" object is like a dictionary, the \"train_labels\" is the key.\n",
    "f.create_dataset(\"train_set_y\", (len(train_addrs),), np.uint8)\n",
    "f[\"train_set_y\"][...] = train_labels\n",
    " \n",
    "# f.create_dataset(\"test_set_y\", (len(test_addrs),), np.uint8)\n",
    "# f[\"test_set_y\"][...] = test_labels"
   ]
  },
  {
   "cell_type": "code",
   "execution_count": null,
   "metadata": {},
   "outputs": [],
   "source": []
  },
  {
   "cell_type": "code",
   "execution_count": 70,
   "metadata": {},
   "outputs": [],
   "source": [
    "######################## third part: write the images #########################\n",
    "import cv2\n",
    " \n",
    "# loop over train paths\n",
    "for i in range(len(train_addrs)):\n",
    " \n",
    "    addr = train_addrs[i]\n",
    "    img = cv2.imread(addr)\n",
    "    img = cv2.cvtColor(img, cv2.COLOR_BGR2RGB) # cv2 load images as BGR, convert it to RGB\n",
    "    img = cv2.resize(img, (128, 128), interpolation=cv2.INTER_CUBIC)# resize to (128,128)\n",
    "        \n",
    "    \n",
    "#     f[\"train_set_x\"][i, ...] = img[None]\n",
    " \n",
    "# # loop over test paths\n",
    "# for i in range(len(test_addrs)):\n",
    " \n",
    "#     if i % 1000 == 0 and i > 1:\n",
    "#         print ('Test data: {}/{}'.format(i, len(test_addrs)) )\n",
    " \n",
    "#     addr = test_addrs[i]\n",
    "#     img = cv2.imread(addr)\n",
    "#     img = cv2.resize(img, (128, 128), interpolation=cv2.INTER_CUBIC)\n",
    "#     img = cv2.cvtColor(img, cv2.COLOR_BGR2RGB)\n",
    "    \n",
    "#     f[\"test_set_x\"][i, ...] = img[None]\n",
    "f.close()"
   ]
  },
  {
   "cell_type": "code",
   "execution_count": 71,
   "metadata": {},
   "outputs": [
    {
     "name": "stdout",
     "output_type": "stream",
     "text": [
      "train/10083.jpg\n"
     ]
    }
   ],
   "source": [
    "print addr"
   ]
  },
  {
   "cell_type": "code",
   "execution_count": 47,
   "metadata": {},
   "outputs": [],
   "source": [
    "f.close()"
   ]
  },
  {
   "cell_type": "code",
   "execution_count": null,
   "metadata": {},
   "outputs": [],
   "source": []
  }
 ],
 "metadata": {
  "kernelspec": {
   "display_name": "Python 2",
   "language": "python",
   "name": "python2"
  },
  "language_info": {
   "codemirror_mode": {
    "name": "ipython",
    "version": 2
   },
   "file_extension": ".py",
   "mimetype": "text/x-python",
   "name": "python",
   "nbconvert_exporter": "python",
   "pygments_lexer": "ipython2",
   "version": "2.7.17"
  }
 },
 "nbformat": 4,
 "nbformat_minor": 2
}
